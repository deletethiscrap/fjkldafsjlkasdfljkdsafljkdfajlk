{
 "cells": [
  {
   "cell_type": "markdown",
   "id": "1a125a60",
   "metadata": {},
   "source": [
    "# Data Science Tools And Ecosystem"
   ]
  },
  {
   "cell_type": "markdown",
   "id": "af49ada7",
   "metadata": {},
   "source": [
    "## In this notebook, data science tools and ecosystems are summarized and presented"
   ]
  },
  {
   "cell_type": "markdown",
   "id": "6af58bbd",
   "metadata": {},
   "source": [
    "**Objectives:**\n",
    "- List popular languages for Data Science\n",
    "- List common libraries for Data Science\n",
    "- Provide some examples of arithmetic expressions in Python"
   ]
  },
  {
   "cell_type": "markdown",
   "id": "268c2b9d",
   "metadata": {},
   "source": [
    "### Some of the popular languages that data scientists use are:"
   ]
  },
  {
   "cell_type": "markdown",
   "id": "d18adeab",
   "metadata": {},
   "source": [
    "1. Python\n",
    "2. R\n",
    "3. SQL"
   ]
  },
  {
   "cell_type": "markdown",
   "id": "b0a02dcc",
   "metadata": {},
   "source": [
    "### Some of the commonly used libraries used by data Scientists incude:"
   ]
  },
  {
   "cell_type": "markdown",
   "id": "1db2405d",
   "metadata": {},
   "source": [
    "1. NumPy\n",
    "2. Pandas\n",
    "3. Matplotlib"
   ]
  },
  {
   "cell_type": "markdown",
   "id": "d92ddae4",
   "metadata": {},
   "source": [
    "|Data Science Tools|\n",
    "|----|\n",
    "|Jupyter Notebooks|\n",
    "|VS Code|\n",
    "|RStudio|"
   ]
  },
  {
   "cell_type": "markdown",
   "id": "8c4f6f6d",
   "metadata": {},
   "source": [
    "### Below are a few examples of evaluating arithmetic expressions in Python"
   ]
  },
  {
   "cell_type": "markdown",
   "id": "4a4ae085",
   "metadata": {},
   "source": [
    "#### This is a simple arithmetic expression to multiply then add integers"
   ]
  },
  {
   "cell_type": "code",
   "execution_count": 3,
   "id": "4311e6d3",
   "metadata": {
    "tags": []
   },
   "outputs": [
    {
     "data": {
      "text/plain": [
       "17"
      ]
     },
     "execution_count": 3,
     "metadata": {},
     "output_type": "execute_result"
    }
   ],
   "source": [
    "(3*4)+5"
   ]
  },
  {
   "cell_type": "markdown",
   "id": "2cd9afca",
   "metadata": {
    "tags": []
   },
   "source": [
    "#### This will convert 200 minutes to hours by dividing by 60"
   ]
  },
  {
   "cell_type": "code",
   "execution_count": 6,
   "id": "72a31d6f",
   "metadata": {
    "tags": []
   },
   "outputs": [
    {
     "data": {
      "text/plain": [
       "3.3333333333333335"
      ]
     },
     "execution_count": 6,
     "metadata": {},
     "output_type": "execute_result"
    }
   ],
   "source": [
    "200/60"
   ]
  },
  {
   "cell_type": "markdown",
   "id": "af02a272",
   "metadata": {
    "tags": []
   },
   "source": [
    "## Author\n",
    "Rick Redman"
   ]
  },
  {
   "cell_type": "markdown",
   "id": "330c106c",
   "metadata": {},
   "source": []
  },
  {
   "cell_type": "code",
   "execution_count": null,
   "id": "ec24fdd4-a594-4b24-a3b3-d6d6252f3743",
   "metadata": {},
   "outputs": [],
   "source": []
  },
  {
   "cell_type": "code",
   "execution_count": null,
   "id": "3453d03e-8935-428d-8a2d-329622132aff",
   "metadata": {},
   "outputs": [],
   "source": []
  }
 ],
 "metadata": {
  "kernelspec": {
   "display_name": "Python",
   "language": "python",
   "name": "conda-env-python-py"
  },
  "language_info": {
   "codemirror_mode": {
    "name": "ipython",
    "version": 3
   },
   "file_extension": ".py",
   "mimetype": "text/x-python",
   "name": "python",
   "nbconvert_exporter": "python",
   "pygments_lexer": "ipython3",
   "version": "3.7.12"
  }
 },
 "nbformat": 4,
 "nbformat_minor": 5
}
